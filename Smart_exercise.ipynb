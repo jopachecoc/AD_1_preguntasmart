{
  "nbformat": 4,
  "nbformat_minor": 0,
  "metadata": {
    "colab": {
      "provenance": []
    },
    "kernelspec": {
      "name": "python3",
      "display_name": "Python 3"
    },
    "language_info": {
      "name": "python"
    }
  },
  "cells": [
    {
      "cell_type": "markdown",
      "source": [
        "Descripcion del problema es una molestia:\n",
        "Aumento en los niveles de inventario año tras año para los repuestos de las maquinas cosechadores de caña de un ingenio en particular, visto en la trazabilidad de cantidad de repuestos y costo a lo largo de los ultimoms años.\n",
        "Para poder solucionar este, es viable evaluar cuales son los repuestos top que generan el mayor movimiento del inventario para enfocarnos en ellos y generar pronosticos de demanda sobre los mismos, con esto conseguiriamos un pedido sugerido para estos repuestos un dato apalancado de su historial de venta que junto con el conocimieto del negocio (adquisicion de nuevas maquinas, programacion de mantenimientos, descanso de terrenos etc) llegaremos a un pedido sugerido final para la compra de los mismos.\n",
        "\n",
        "Preguntas smart:\n",
        "\n",
        "En que repuestos yo me debo enfocar para realizar un pronostico de demanda en los siguientes 6 meses con tal de disminuir el inventario?\n",
        "\n",
        "Cuantos repuestos necesito comprar para tener una disminucion en el inventario y aumentar mis ventas de los mismos en los siguientes 6 meses para estas referencias.\n",
        "\n",
        "Que repuestos deberia devolver y en que cantidad para reducir el inventario de repuestos de cosechadoras sabiendo que la devolucion va por un costo del 20% por debajo, teniendo en cuenta la demanda de los siguientes 6 meses?\n",
        "\n",
        "\n",
        "\n",
        "\n"
      ],
      "metadata": {
        "id": "HS6xtWh4l8jX"
      }
    }
  ]
}
