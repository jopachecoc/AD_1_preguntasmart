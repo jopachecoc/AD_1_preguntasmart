{
  "nbformat": 4,
  "nbformat_minor": 0,
  "metadata": {
    "colab": {
      "provenance": [],
      "include_colab_link": true
    },
    "kernelspec": {
      "name": "python3",
      "display_name": "Python 3"
    },
    "language_info": {
      "name": "python"
    }
  },
  "cells": [
    {
      "cell_type": "markdown",
      "metadata": {
        "id": "view-in-github",
        "colab_type": "text"
      },
      "source": [
        "<a href=\"https://colab.research.google.com/github/jopachecoc/AD_1_preguntasmart/blob/main/Extrac_datos_WScrap.ipynb\" target=\"_parent\"><img src=\"https://colab.research.google.com/assets/colab-badge.svg\" alt=\"Open In Colab\"/></a>"
      ]
    },
    {
      "cell_type": "markdown",
      "source": [
        "# Taller Web scraping Extracción y almacenamiento de datos.\n",
        "\n",
        "* Presentado por:\n",
        "Jonathan Pacheco\n",
        "\n",
        "Objetivo:\n",
        "Extraer los datos solicitados de un sitio web utilizando Python y BeautifulSoup.\n"
      ],
      "metadata": {
        "id": "8sBQsOIbEVnh"
      }
    },
    {
      "cell_type": "code",
      "source": [
        "!pip install requests beautifulsoup4"
      ],
      "metadata": {
        "id": "86Fr5GHsEU8y"
      },
      "execution_count": null,
      "outputs": []
    },
    {
      "cell_type": "markdown",
      "source": [],
      "metadata": {
        "id": "umXj4K6SETa8"
      }
    },
    {
      "cell_type": "code",
      "source": [
        "import requests\n",
        "from bs4 import BeautifulSoup\n",
        "# URL de la página web\n",
        "url = \"https://books.toscrape.com/\"\n",
        "response = requests.get(url)\n",
        "soup = BeautifulSoup(response.text, 'html.parser')"
      ],
      "metadata": {
        "id": "RI3SqOEwjsjy"
      },
      "execution_count": 12,
      "outputs": []
    },
    {
      "cell_type": "code",
      "source": [
        "# Buscar todos los artículos de libros\n",
        "books = soup.find_all('article', class_='product_pod')\n",
        "#print(f\"Libros: {books}\")"
      ],
      "metadata": {
        "id": "6WmcOqO5kEIZ",
        "collapsed": true
      },
      "execution_count": 13,
      "outputs": []
    },
    {
      "cell_type": "code",
      "source": [
        "# Extraemos los datos de cada uno de los libros\n",
        "for book in books:\n",
        "    title = book.h3.a['title']\n",
        "    price = book.find('p', class_='price_color').text\n",
        "    availability = book.find('p', class_='instock availability').text.strip()\n",
        "    print(f\"Título: {title}\")\n",
        "    print(f\"Precio: {price}\")\n",
        "    print(f\"Disponibilidad: {availability}\")\n",
        "    print(\"-\" * 40)"
      ],
      "metadata": {
        "colab": {
          "base_uri": "https://localhost:8080/"
        },
        "id": "Rxo8Q16EkHDk",
        "outputId": "74491bfb-9da9-4fa9-b1d7-7c7e5a798255",
        "collapsed": true
      },
      "execution_count": 14,
      "outputs": [
        {
          "output_type": "stream",
          "name": "stdout",
          "text": [
            "Título: A Light in the Attic\n",
            "Precio: Â£51.77\n",
            "Disponibilidad: In stock\n",
            "----------------------------------------\n",
            "Título: Tipping the Velvet\n",
            "Precio: Â£53.74\n",
            "Disponibilidad: In stock\n",
            "----------------------------------------\n",
            "Título: Soumission\n",
            "Precio: Â£50.10\n",
            "Disponibilidad: In stock\n",
            "----------------------------------------\n",
            "Título: Sharp Objects\n",
            "Precio: Â£47.82\n",
            "Disponibilidad: In stock\n",
            "----------------------------------------\n",
            "Título: Sapiens: A Brief History of Humankind\n",
            "Precio: Â£54.23\n",
            "Disponibilidad: In stock\n",
            "----------------------------------------\n",
            "Título: The Requiem Red\n",
            "Precio: Â£22.65\n",
            "Disponibilidad: In stock\n",
            "----------------------------------------\n",
            "Título: The Dirty Little Secrets of Getting Your Dream Job\n",
            "Precio: Â£33.34\n",
            "Disponibilidad: In stock\n",
            "----------------------------------------\n",
            "Título: The Coming Woman: A Novel Based on the Life of the Infamous Feminist, Victoria Woodhull\n",
            "Precio: Â£17.93\n",
            "Disponibilidad: In stock\n",
            "----------------------------------------\n",
            "Título: The Boys in the Boat: Nine Americans and Their Epic Quest for Gold at the 1936 Berlin Olympics\n",
            "Precio: Â£22.60\n",
            "Disponibilidad: In stock\n",
            "----------------------------------------\n",
            "Título: The Black Maria\n",
            "Precio: Â£52.15\n",
            "Disponibilidad: In stock\n",
            "----------------------------------------\n",
            "Título: Starving Hearts (Triangular Trade Trilogy, #1)\n",
            "Precio: Â£13.99\n",
            "Disponibilidad: In stock\n",
            "----------------------------------------\n",
            "Título: Shakespeare's Sonnets\n",
            "Precio: Â£20.66\n",
            "Disponibilidad: In stock\n",
            "----------------------------------------\n",
            "Título: Set Me Free\n",
            "Precio: Â£17.46\n",
            "Disponibilidad: In stock\n",
            "----------------------------------------\n",
            "Título: Scott Pilgrim's Precious Little Life (Scott Pilgrim #1)\n",
            "Precio: Â£52.29\n",
            "Disponibilidad: In stock\n",
            "----------------------------------------\n",
            "Título: Rip it Up and Start Again\n",
            "Precio: Â£35.02\n",
            "Disponibilidad: In stock\n",
            "----------------------------------------\n",
            "Título: Our Band Could Be Your Life: Scenes from the American Indie Underground, 1981-1991\n",
            "Precio: Â£57.25\n",
            "Disponibilidad: In stock\n",
            "----------------------------------------\n",
            "Título: Olio\n",
            "Precio: Â£23.88\n",
            "Disponibilidad: In stock\n",
            "----------------------------------------\n",
            "Título: Mesaerion: The Best Science Fiction Stories 1800-1849\n",
            "Precio: Â£37.59\n",
            "Disponibilidad: In stock\n",
            "----------------------------------------\n",
            "Título: Libertarianism for Beginners\n",
            "Precio: Â£51.33\n",
            "Disponibilidad: In stock\n",
            "----------------------------------------\n",
            "Título: It's Only the Himalayas\n",
            "Precio: Â£45.17\n",
            "Disponibilidad: In stock\n",
            "----------------------------------------\n"
          ]
        }
      ]
    },
    {
      "cell_type": "code",
      "source": [
        "# Diccionario para las clases de rating con su valor.\n",
        "rating_dict = {'One': 1,'Two': 2,'Three': 3,'Four': 4,'Five': 5}"
      ],
      "metadata": {
        "id": "jB9B1_NpkMy2"
      },
      "execution_count": 15,
      "outputs": []
    },
    {
      "cell_type": "markdown",
      "source": [
        "# Para cada producto se debe obtener y mostrar lo siguiente:\n",
        "* Título\n",
        "* Precio\n",
        "* Disponibilidad\n",
        "* Rating\n"
      ],
      "metadata": {
        "id": "xhiL4CebLlqI"
      }
    },
    {
      "cell_type": "code",
      "source": [
        "# Ahora extraemos los datos de cada libro.\n",
        "for book in books:\n",
        "    title = book.h3.a['title']\n",
        "    price = book.find('p', class_='price_color').text\n",
        "    availability = book.find('p', class_='instock availability').text.strip()\n",
        "    rating_class = book.find('p', class_='star-rating')['class']\n",
        "    rating = rating_dict[rating_class[1]]  # El rating se encuentra en el segundo elemento de la clase.\n",
        "    # Mostrar la información extraída\n",
        "    print(f\"Título: {title}\")\n",
        "    print(f\"Precio: {price}\")\n",
        "    print(f\"Disponibilidad: {availability}\")\n",
        "    print(f\"Rating: {rating} estrellas\")\n",
        "    print(\"_\" *70)"
      ],
      "metadata": {
        "colab": {
          "base_uri": "https://localhost:8080/"
        },
        "id": "neNyIsN8k5SK",
        "outputId": "afb46b18-cae8-4c2a-e663-d5d39ec38397"
      },
      "execution_count": 18,
      "outputs": [
        {
          "output_type": "stream",
          "name": "stdout",
          "text": [
            "Título: A Light in the Attic\n",
            "Precio: Â£51.77\n",
            "Disponibilidad: In stock\n",
            "Rating: 3 estrellas\n",
            "______________________________________________________________________\n",
            "Título: Tipping the Velvet\n",
            "Precio: Â£53.74\n",
            "Disponibilidad: In stock\n",
            "Rating: 1 estrellas\n",
            "______________________________________________________________________\n",
            "Título: Soumission\n",
            "Precio: Â£50.10\n",
            "Disponibilidad: In stock\n",
            "Rating: 1 estrellas\n",
            "______________________________________________________________________\n",
            "Título: Sharp Objects\n",
            "Precio: Â£47.82\n",
            "Disponibilidad: In stock\n",
            "Rating: 4 estrellas\n",
            "______________________________________________________________________\n",
            "Título: Sapiens: A Brief History of Humankind\n",
            "Precio: Â£54.23\n",
            "Disponibilidad: In stock\n",
            "Rating: 5 estrellas\n",
            "______________________________________________________________________\n",
            "Título: The Requiem Red\n",
            "Precio: Â£22.65\n",
            "Disponibilidad: In stock\n",
            "Rating: 1 estrellas\n",
            "______________________________________________________________________\n",
            "Título: The Dirty Little Secrets of Getting Your Dream Job\n",
            "Precio: Â£33.34\n",
            "Disponibilidad: In stock\n",
            "Rating: 4 estrellas\n",
            "______________________________________________________________________\n",
            "Título: The Coming Woman: A Novel Based on the Life of the Infamous Feminist, Victoria Woodhull\n",
            "Precio: Â£17.93\n",
            "Disponibilidad: In stock\n",
            "Rating: 3 estrellas\n",
            "______________________________________________________________________\n",
            "Título: The Boys in the Boat: Nine Americans and Their Epic Quest for Gold at the 1936 Berlin Olympics\n",
            "Precio: Â£22.60\n",
            "Disponibilidad: In stock\n",
            "Rating: 4 estrellas\n",
            "______________________________________________________________________\n",
            "Título: The Black Maria\n",
            "Precio: Â£52.15\n",
            "Disponibilidad: In stock\n",
            "Rating: 1 estrellas\n",
            "______________________________________________________________________\n",
            "Título: Starving Hearts (Triangular Trade Trilogy, #1)\n",
            "Precio: Â£13.99\n",
            "Disponibilidad: In stock\n",
            "Rating: 2 estrellas\n",
            "______________________________________________________________________\n",
            "Título: Shakespeare's Sonnets\n",
            "Precio: Â£20.66\n",
            "Disponibilidad: In stock\n",
            "Rating: 4 estrellas\n",
            "______________________________________________________________________\n",
            "Título: Set Me Free\n",
            "Precio: Â£17.46\n",
            "Disponibilidad: In stock\n",
            "Rating: 5 estrellas\n",
            "______________________________________________________________________\n",
            "Título: Scott Pilgrim's Precious Little Life (Scott Pilgrim #1)\n",
            "Precio: Â£52.29\n",
            "Disponibilidad: In stock\n",
            "Rating: 5 estrellas\n",
            "______________________________________________________________________\n",
            "Título: Rip it Up and Start Again\n",
            "Precio: Â£35.02\n",
            "Disponibilidad: In stock\n",
            "Rating: 5 estrellas\n",
            "______________________________________________________________________\n",
            "Título: Our Band Could Be Your Life: Scenes from the American Indie Underground, 1981-1991\n",
            "Precio: Â£57.25\n",
            "Disponibilidad: In stock\n",
            "Rating: 3 estrellas\n",
            "______________________________________________________________________\n",
            "Título: Olio\n",
            "Precio: Â£23.88\n",
            "Disponibilidad: In stock\n",
            "Rating: 1 estrellas\n",
            "______________________________________________________________________\n",
            "Título: Mesaerion: The Best Science Fiction Stories 1800-1849\n",
            "Precio: Â£37.59\n",
            "Disponibilidad: In stock\n",
            "Rating: 1 estrellas\n",
            "______________________________________________________________________\n",
            "Título: Libertarianism for Beginners\n",
            "Precio: Â£51.33\n",
            "Disponibilidad: In stock\n",
            "Rating: 2 estrellas\n",
            "______________________________________________________________________\n",
            "Título: It's Only the Himalayas\n",
            "Precio: Â£45.17\n",
            "Disponibilidad: In stock\n",
            "Rating: 2 estrellas\n",
            "______________________________________________________________________\n"
          ]
        }
      ]
    },
    {
      "cell_type": "markdown",
      "source": [
        "SOLUCIÓN: En la salida anterior mostramos los datos correspondientes extraídos desde internet usando el paquete beautifulsoup4.\n",
        "\n",
        "* Por otro lado me interesaría conocer el valor del libro más costoso, el cual es: “Our Band Could Be Your Life:” con un valor de 58 euros aproximadamente.\n"
      ],
      "metadata": {
        "id": "7_bXjzAGL-7H"
      }
    }
  ]
}